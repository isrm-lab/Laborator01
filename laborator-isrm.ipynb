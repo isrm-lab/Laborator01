{
 "cells": [
  {
   "cell_type": "markdown",
   "metadata": {},
   "source": [
    "Instalare Phython environment: \n",
    "\n",
    " <code shell> # apt install python3-virtualenv </code>\n",
    "\n",
    "În directorul de lucru ~/isrm se crează un environment, tradițional numit venv: \n",
    " <code shell> \n",
    " $ cd ~/isrm\n",
    " $ python3 /usr/lib/python3/dist-packages/virtualenv.py -p /usr/bin/python3 venv \n",
    " </code>\n",
    "\n",
    "În acest director se verifică instalarea. Nu este nevoie de a se folosi pip3: \n",
    "\n",
    "<code shell> $ pip --version \n",
    "pip 19.0.3 from ~/isrm/venv/lib/python3.5/site-packages/pip (python 3.5)\n",
    "</code>\n",
    "\n",
    "Activare environment virtual: \n",
    "\n",
    "<code shell>$ source venv/bin/activate</code>\n",
    "\n",
    "Se merge mai departe cu prompt-ul de shell schimbat (venv).   \n",
    "\n",
    " <code shell> $ pip install numpy scipy matplotlib ipywidgets jupyterthemes </code>\n",
    " \n",
    "Rezultă cam 300MB în ~/isrm. Se setează tema de culoare închisă:\n",
    " \n",
    " <code shell> $ jt -t onedowk </code>\n",
    " "
   ]
  },
  {
   "cell_type": "code",
   "execution_count": 4,
   "metadata": {},
   "outputs": [
    {
     "name": "stdout",
     "output_type": "stream",
     "text": [
      "Average of measurements is 159.9987\n"
     ]
    },
    {
     "data": {
      "image/png": "[encoded data removed]",
      "text/plain": [
       "<Figure size 432x288 with 1 Axes>"
      ]
     },
     "metadata": {
      "needs_background": "light"
     },
     "output_type": "display_data"
    }
   ],
   "source": [
    "import numpy as np\n",
    "import matplotlib.pyplot as plt\n",
    "measurements = np.random.normal(160, 5, size=10000)\n",
    "mean = measurements.mean()\n",
    "print('Average of measurements is {:.4f}'.format(mean))\n",
    "h = np.histogram(measurements)\n",
    "plt.hist(measurements, 30, density=True )\n",
    "plt.show()"
   ]
  },
  {
   "cell_type": "markdown",
   "metadata": {},
   "source": [
    " ### Structura directoarelor \n",
    "  * ~/isrm \n",
    "  * ~/isrm/venv\n",
    "  * ~/isrm/ns3-allinone \n",
    "  \n",
    "### Python notebooks \n",
    "  * rulare locală\n",
    "<code shell> \n",
    "    $ cd ~/isrm\n",
    "$ source venv/bin/activate\n",
    "    $ jupyter notebook\n",
    "</code>\n",
    "Se continuă în browser\n",
    "\n",
    "  * vizualizare la https://nbviewer.jupyter.org\n",
    "  * https://nbviewer.jupyter.org/github/isrm-lab/Laborator01/blob/master/laborator-isrm.ipynb\n"
   ]
  }
 ],
 "metadata": {
  "kernelspec": {
   "display_name": "Python 3",
   "language": "python",
   "name": "python3"
  },
  "language_info": {
   "codemirror_mode": {
    "name": "ipython",
    "version": 3
   },
   "file_extension": ".py",
   "mimetype": "text/x-python",
   "name": "python",
   "nbconvert_exporter": "python",
   "pygments_lexer": "ipython3",
   "version": "3.5.2"
  }
 },
 "nbformat": 4,
 "nbformat_minor": 2
}
